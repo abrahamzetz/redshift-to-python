{
 "cells": [
  {
   "cell_type": "markdown",
   "id": "89a89dbf-c8e1-4661-9a59-8ef12dd12e5d",
   "metadata": {
    "tags": []
   },
   "source": [
    "# Connecting AWS Redshift to Python"
   ]
  },
  {
   "cell_type": "code",
   "execution_count": null,
   "id": "533c3c76-a873-433c-84d1-b7948b44afeb",
   "metadata": {},
   "outputs": [],
   "source": [
    "# here we import libraries that we need.\n",
    "\n",
    "import os\n",
    "import pandas as pd\n",
    "\n",
    "try:\n",
    "    from sqlalchemy import create_engine\n",
    "except ModuleNotFoundError:\n",
    "    !pip install sqlalchemy\n",
    "    from sqlalchemy import create_engine\n",
    "\n",
    "try:\n",
    "    import psycopg2\n",
    "except ModuleNotFoundError:\n",
    "    !pip install psycopg2\n",
    "    import psycopg2\n",
    "\n",
    "print('Libraries imported successfully')"
   ]
  },
  {
   "cell_type": "code",
   "execution_count": null,
   "id": "5e86faaa-43c7-4cd3-a05b-2cc60d11b3b1",
   "metadata": {},
   "outputs": [],
   "source": [
    "# here we set the AWS Redshift credentials\n",
    "\n",
    "os.environ['REDSHIFT_USER'] = \"\"\n",
    "os.environ['REDSHIFT_PASS'] = \"\"\n",
    "os.environ['REDSHIFT_ENDPOINT'] = \"\"\n",
    "os.environ['REDSHIFT_PORT'] = \"\"\n",
    "os.environ['REDSHIFT_DBNAME'] = \"\"\n",
    "\n",
    "print('Secret keys stored successfully. Remember not to share this information')"
   ]
  },
  {
   "cell_type": "code",
   "execution_count": null,
   "id": "e724f81e-4009-4903-b0bc-3f5501ef357a",
   "metadata": {},
   "outputs": [],
   "source": [
    "# create sql engine to connect to redshift\n",
    "\n",
    "engine_string = \"postgresql+psycopg2://{}:{}@{}:{}/{}\".format(\n",
    "    os.getenv('REDSHIFT_USER'), os.getenv('REDSHIFT_PASS'), os.getenv('REDSHIFT_ENDPOINT'), os.getenv('REDSHIFT_PORT'), os.getenv('REDSHIFT_DBNAME'))\n",
    "engine = create_engine(engine_string)\n",
    "\n",
    "print('Engine created successfully')"
   ]
  },
  {
   "cell_type": "markdown",
   "id": "2609691e-13fc-4074-9b11-bf926dadb7dc",
   "metadata": {
    "tags": []
   },
   "source": [
    "### Now we can start querying with SQL syntax\n",
    "\n",
    "You can change the content of \"sql\" to the query you need, and the result will be stored to a pandas DataFrame \"df\".\n",
    "Feel free to copy paste the cell below for your queries."
   ]
  },
  {
   "cell_type": "code",
   "execution_count": null,
   "id": "56e926fe-39fa-4633-86c2-86e9c8fd83cd",
   "metadata": {},
   "outputs": [],
   "source": [
    "# change the query as needed. <table> should be the database name and the table name.\n",
    "\n",
    "sql = \"\"\"\n",
    "    SELECT *\n",
    "    FROM <table>\n",
    "    LIMIT 5\n",
    "\"\"\"\n",
    "\n",
    "df = pd.read_sql(sql, engine)\n",
    "df"
   ]
  }
 ],
 "metadata": {
  "kernelspec": {
   "display_name": "Python 3",
   "language": "python",
   "name": "python3"
  },
  "language_info": {
   "codemirror_mode": {
    "name": "ipython",
    "version": 3
   },
   "file_extension": ".py",
   "mimetype": "text/x-python",
   "name": "python",
   "nbconvert_exporter": "python",
   "pygments_lexer": "ipython3",
   "version": "3.8.8"
  }
 },
 "nbformat": 4,
 "nbformat_minor": 5
}
